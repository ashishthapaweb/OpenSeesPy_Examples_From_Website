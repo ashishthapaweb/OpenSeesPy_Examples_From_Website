{
 "cells": [
  {
   "cell_type": "code",
   "execution_count": 58,
   "id": "c497218c",
   "metadata": {},
   "outputs": [],
   "source": [
    "from openseespy.opensees import *\n",
    "import numpy as np\n",
    "import matplotlib.pyplot as plt\n",
    "import opsvis as opsv"
   ]
  },
  {
   "cell_type": "code",
   "execution_count": 59,
   "id": "fdcee193",
   "metadata": {},
   "outputs": [],
   "source": [
    "# --------------------------\n",
    "# Start of model generation\n",
    "# --------------------------"
   ]
  },
  {
   "cell_type": "code",
   "execution_count": 60,
   "id": "a6cf6119",
   "metadata": {},
   "outputs": [],
   "source": [
    "# remove existing model\n",
    "wipe()"
   ]
  },
  {
   "cell_type": "code",
   "execution_count": 61,
   "id": "4883c388",
   "metadata": {},
   "outputs": [],
   "source": [
    "# set modelbuilder\n",
    "model('basic', '-ndm', 2, '-ndf', 2)"
   ]
  },
  {
   "cell_type": "code",
   "execution_count": 62,
   "id": "9ed2dfbb",
   "metadata": {},
   "outputs": [],
   "source": [
    "# create nodes\n",
    "node(1, 0.0, 0.0)\n",
    "node(2, 144.0, 0.0)\n",
    "node(3, 168.0, 0.0)\n",
    "node(4, 72.0, 96.0)"
   ]
  },
  {
   "cell_type": "code",
   "execution_count": 63,
   "id": "c2f23b6c",
   "metadata": {},
   "outputs": [],
   "source": [
    "# set boundary conditions\n",
    "fix(1, 1, 1)\n",
    "fix(2, 1, 1)\n",
    "fix(3, 1, 1)"
   ]
  },
  {
   "cell_type": "code",
   "execution_count": 64,
   "id": "b0f8cfcf",
   "metadata": {},
   "outputs": [],
   "source": [
    "# define materials\n",
    "uniaxialMaterial(\"Elastic\", 1, 3000.0)"
   ]
  },
  {
   "cell_type": "code",
   "execution_count": 65,
   "id": "038befc7",
   "metadata": {},
   "outputs": [],
   "source": [
    "# define elements => element(\"Truss\", eleTag, *eleNodes, A, matTag)\n",
    "element(\"Truss\", 1, *[1, 4], 10.0, 1)\n",
    "element(\"Truss\", 2, *[2, 4], 5.0, 1)\n",
    "element(\"Truss\", 3, *[3, 4], 5.0, 1)"
   ]
  },
  {
   "cell_type": "code",
   "execution_count": 66,
   "id": "154f816c",
   "metadata": {},
   "outputs": [],
   "source": [
    "# create TimeSeries => timeSeries('Linear', tsTag)\n",
    "timeSeries(\"Linear\", 1)"
   ]
  },
  {
   "cell_type": "code",
   "execution_count": 67,
   "id": "00738d64",
   "metadata": {},
   "outputs": [],
   "source": [
    "# create a plain load pattern => pattern('Plain', patternTag, tsTag)\n",
    "pattern(\"Plain\", 1, 1)"
   ]
  },
  {
   "cell_type": "code",
   "execution_count": 68,
   "id": "995ce828",
   "metadata": {},
   "outputs": [],
   "source": [
    "# create a nodal load => load(nodeTag, *loadValues)\n",
    "load(4, 100.0, -50.0)"
   ]
  },
  {
   "cell_type": "code",
   "execution_count": 69,
   "id": "96962662",
   "metadata": {},
   "outputs": [],
   "source": [
    "# -----------------------------\n",
    "# Start of analysis generation\n",
    "# -----------------------------"
   ]
  },
  {
   "cell_type": "code",
   "execution_count": 70,
   "id": "9905b235",
   "metadata": {},
   "outputs": [],
   "source": [
    "# create SOE\n",
    "system(\"BandSPD\")"
   ]
  },
  {
   "cell_type": "code",
   "execution_count": 71,
   "id": "47902cd8",
   "metadata": {},
   "outputs": [],
   "source": [
    "# create DOF numberer\n",
    "numberer(\"RCM\")"
   ]
  },
  {
   "cell_type": "code",
   "execution_count": 72,
   "id": "b5deae1a",
   "metadata": {},
   "outputs": [],
   "source": [
    "# create constraint handler\n",
    "constraints(\"Plain\")"
   ]
  },
  {
   "cell_type": "code",
   "execution_count": 73,
   "id": "ad69da84",
   "metadata": {},
   "outputs": [],
   "source": [
    "# create integrator\n",
    "integrator(\"LoadControl\", 1.0)"
   ]
  },
  {
   "cell_type": "code",
   "execution_count": 74,
   "id": "818b1678",
   "metadata": {},
   "outputs": [],
   "source": [
    "# create algorithm\n",
    "algorithm(\"Linear\")"
   ]
  },
  {
   "cell_type": "code",
   "execution_count": 75,
   "id": "583d24f0",
   "metadata": {},
   "outputs": [],
   "source": [
    "# create analysis object\n",
    "analysis(\"Static\")"
   ]
  },
  {
   "cell_type": "code",
   "execution_count": 76,
   "id": "879aaeaa",
   "metadata": {},
   "outputs": [
    {
     "data": {
      "text/plain": [
       "0"
      ]
     },
     "execution_count": 76,
     "metadata": {},
     "output_type": "execute_result"
    }
   ],
   "source": [
    "# perform the analysis\n",
    "analyze(1)"
   ]
  },
  {
   "cell_type": "code",
   "execution_count": 77,
   "id": "f2f16561",
   "metadata": {},
   "outputs": [],
   "source": [
    "# -----------------------------\n",
    "# Start of analysis generation\n",
    "# -----------------------------"
   ]
  },
  {
   "cell_type": "code",
   "execution_count": 78,
   "id": "38d1f200",
   "metadata": {},
   "outputs": [],
   "source": [
    "ux = nodeDisp(4,1)\n",
    "uy = nodeDisp(4,2)"
   ]
  },
  {
   "cell_type": "code",
   "execution_count": 79,
   "id": "444dd412",
   "metadata": {},
   "outputs": [
    {
     "name": "stdout",
     "output_type": "stream",
     "text": [
      "ux = 0.5300927771322838\n",
      "uy = -0.1778936384693177 \n",
      "Status = Passed!\n"
     ]
    }
   ],
   "source": [
    "if abs(ux-0.53009277713228375450)<1e-12 and abs(uy+0.17789363846931768864)<1e-12:\n",
    "    print(f\"ux = {ux}\\nuy = {uy} \\nStatus = Passed!\")\n",
    "else:\n",
    "    print(\"Failed!\")"
   ]
  },
  {
   "cell_type": "code",
   "execution_count": 80,
   "id": "6acca998",
   "metadata": {},
   "outputs": [
    {
     "data": {
      "text/plain": [
       "<Axes: >"
      ]
     },
     "execution_count": 80,
     "metadata": {},
     "output_type": "execute_result"
    },
    {
     "data": {
      "image/png": "[encoded data removed]",
      "text/plain": [
       "<Figure size 640x480 with 1 Axes>"
      ]
     },
     "metadata": {},
     "output_type": "display_data"
    }
   ],
   "source": [
    "opsv.plot_model()"
   ]
  },
  {
   "cell_type": "code",
   "execution_count": 81,
   "id": "c9060f73",
   "metadata": {},
   "outputs": [
    {
     "data": {
      "image/png": "[encoded data removed]",
      "text/plain": [
       "<Figure size 640x480 with 1 Axes>"
      ]
     },
     "metadata": {},
     "output_type": "display_data"
    }
   ],
   "source": [
    "sfac = opsv.plot_defo()"
   ]
  }
 ],
 "metadata": {
  "kernelspec": {
   "display_name": "Python 3",
   "language": "python",
   "name": "python3"
  },
  "language_info": {
   "codemirror_mode": {
    "name": "ipython",
    "version": 3
   },
   "file_extension": ".py",
   "mimetype": "text/x-python",
   "name": "python",
   "nbconvert_exporter": "python",
   "pygments_lexer": "ipython3",
   "version": "3.12.6"
  }
 },
 "nbformat": 4,
 "nbformat_minor": 5
}
