{
 "cells": [
  {
   "cell_type": "code",
   "execution_count": 321,
   "id": "12f03b52",
   "metadata": {},
   "outputs": [],
   "source": [
    "from openseespy.opensees import *\n",
    "import openseespy.opensees as ops\n",
    "import numpy as np\n",
    "import matplotlib.pyplot as plt\n",
    "import opsvis as opsv"
   ]
  },
  {
   "cell_type": "code",
   "execution_count": 322,
   "id": "40e20e7c",
   "metadata": {},
   "outputs": [],
   "source": [
    "# wipe everything from existing model\n",
    "ops.wipe()\n",
    "# set modelbuilder => model('basic', '-ndm', ndm, '-ndf', ndf=ndm*(ndm+1)/2)\n",
    "model('basic', '-ndm', 2, '-ndf', 2)"
   ]
  },
  {
   "cell_type": "code",
   "execution_count": 323,
   "id": "5cae6539",
   "metadata": {},
   "outputs": [],
   "source": [
    "# create node => node(nodeTag, *crds)\n",
    "node(1, 0, 0)\n",
    "node(2, 3, 0)\n",
    "node(3, 6, 0)\n",
    "node(4, 9, 0)\n",
    "node(5, 3, 3)\n",
    "node(6, 6, 3)"
   ]
  },
  {
   "cell_type": "code",
   "execution_count": 324,
   "id": "41f59e09",
   "metadata": {},
   "outputs": [
    {
     "data": {
      "text/plain": [
       "<Axes: >"
      ]
     },
     "execution_count": 324,
     "metadata": {},
     "output_type": "execute_result"
    },
    {
     "data": {
      "image/png": "[encoded data removed]",
      "text/plain": [
       "<Figure size 640x480 with 1 Axes>"
      ]
     },
     "metadata": {},
     "output_type": "display_data"
    }
   ],
   "source": [
    "plot_model()"
   ]
  },
  {
   "cell_type": "code",
   "execution_count": 325,
   "id": "858771b0",
   "metadata": {},
   "outputs": [],
   "source": [
    "# boundary condition => fix(nodeTag, *constrValues)\n",
    "fix(1, *[1, 1])\n",
    "fix(4, *[0, 1])"
   ]
  },
  {
   "cell_type": "code",
   "execution_count": 326,
   "id": "f51b8c47",
   "metadata": {},
   "outputs": [],
   "source": [
    "# define materials => uniaxialMaterial('Elastic', matTag, E)\n",
    "uniaxialMaterial('Elastic', 1, 200e9)"
   ]
  },
  {
   "cell_type": "code",
   "execution_count": 327,
   "id": "8249eab6",
   "metadata": {},
   "outputs": [
    {
     "name": "stdout",
     "output_type": "stream",
     "text": [
      "Element joining (1, 2) made.\n",
      "Element joining (2, 3) made.\n",
      "Element joining (3, 4) made.\n",
      "Element joining (1, 5) made.\n",
      "Element joining (2, 5) made.\n",
      "Element joining (2, 6) made.\n",
      "Element joining (3, 6) made.\n",
      "Element joining (4, 6) made.\n",
      "Element joining (5, 6) made.\n"
     ]
    }
   ],
   "source": [
    "# make elements => element('Truss', eleTag, *eleNodes, A, matTag)\n",
    "connectivity_list = [(1,2),(2, 3),(3,4),(1,5),(2,5),(2,6),(3,6),(4,6),(5,6)]\n",
    "for i, each in enumerate(connectivity_list):\n",
    "    element('Truss', i+1, *each, 300e-6, 1)\n",
    "    print(f\"Element joining {each} made.\")"
   ]
  },
  {
   "cell_type": "code",
   "execution_count": 328,
   "id": "87ee2fbb",
   "metadata": {},
   "outputs": [
    {
     "data": {
      "text/plain": [
       "<Axes: >"
      ]
     },
     "execution_count": 328,
     "metadata": {},
     "output_type": "execute_result"
    },
    {
     "data": {
      "image/png": "[encoded data removed]",
      "text/plain": [
       "<Figure size 640x480 with 1 Axes>"
      ]
     },
     "metadata": {},
     "output_type": "display_data"
    }
   ],
   "source": [
    "opsv.plot_model()"
   ]
  },
  {
   "cell_type": "code",
   "execution_count": 329,
   "id": "b6369bad",
   "metadata": {},
   "outputs": [],
   "source": [
    "# create timeseries => timeSeries('Linear', tag)\n",
    "timeSeries('Linear', 1)\n",
    "\n",
    "# create pattern => pattern('Plain', patternTag, tsTag)\n",
    "pattern('Plain', 1, 1)\n",
    "\n",
    "# create load => load(nodeTag, *loadValues)\n",
    "load(2, *[0, -20e3])\n",
    "load(3, *[0, -20e3])"
   ]
  },
  {
   "cell_type": "code",
   "execution_count": 330,
   "id": "004c5bc4",
   "metadata": {},
   "outputs": [
    {
     "data": {
      "text/plain": [
       "0"
      ]
     },
     "execution_count": 330,
     "metadata": {},
     "output_type": "execute_result"
    }
   ],
   "source": [
    "# ANALYSIS COMMANDS\n",
    "# create SOE\n",
    "system(\"BandSPD\")\n",
    "# create DOF number\n",
    "numberer(\"RCM\")\n",
    "# create constraint handler\n",
    "constraints(\"Plain\")\n",
    "# create integrator => integrator('LoadControl', incr)\n",
    "integrator(\"LoadControl\", 0.001)\n",
    "# create algorithm\n",
    "algorithm(\"Linear\")\n",
    "# create analysis object\n",
    "analysis(\"Static\")\n",
    "# perform the analysis => analyze(numIncr=1) numIncr = number of steps\n",
    "analyze(1000)"
   ]
  },
  {
   "cell_type": "code",
   "execution_count": 331,
   "id": "47769104",
   "metadata": {},
   "outputs": [
    {
     "name": "stdout",
     "output_type": "stream",
     "text": [
      "The displacement of joint C is -6.162 mm.\n"
     ]
    }
   ],
   "source": [
    "# Extract displacement of joint C => nodeDisp(nodeTag, dof)\n",
    "u_cy = nodeDisp(3, 2)\n",
    "print(f\"The displacement of joint C is {u_cy*1000:.3f} mm.\")"
   ]
  },
  {
   "cell_type": "code",
   "execution_count": 332,
   "id": "118f3b4c",
   "metadata": {},
   "outputs": [
    {
     "name": "stdout",
     "output_type": "stream",
     "text": [
      "The reaction in support A is 20.000 kN.\n",
      "The reaction in support D is 20.000 kN.\n"
     ]
    }
   ],
   "source": [
    "# Extract reactions\n",
    "reactions()\n",
    "r_ay = nodeReaction(1, 2)/1000\n",
    "r_dy = nodeReaction(4, 2)/1000\n",
    "print(f\"The reaction in support A is {r_ay:.3f} kN.\")\n",
    "print(f\"The reaction in support D is {r_dy:.3f} kN.\")"
   ]
  }
 ],
 "metadata": {
  "kernelspec": {
   "display_name": "Python 3",
   "language": "python",
   "name": "python3"
  },
  "language_info": {
   "codemirror_mode": {
    "name": "ipython",
    "version": 3
   },
   "file_extension": ".py",
   "mimetype": "text/x-python",
   "name": "python",
   "nbconvert_exporter": "python",
   "pygments_lexer": "ipython3",
   "version": "3.12.6"
  }
 },
 "nbformat": 4,
 "nbformat_minor": 5
}
