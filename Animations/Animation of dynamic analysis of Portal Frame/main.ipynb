{
 "cells": [
  {
   "cell_type": "code",
   "execution_count": 1,
   "id": "4f5c127a",
   "metadata": {},
   "outputs": [],
   "source": [
    "from openseespy.opensees import *\n",
    "import opsvis as opsv\n",
    "import numpy as np\n",
    "import matplotlib.pyplot as plt\n",
    "%matplotlib widget"
   ]
  },
  {
   "cell_type": "code",
   "execution_count": 2,
   "id": "d3fe6c99",
   "metadata": {},
   "outputs": [],
   "source": [
    "wipe()\n",
    "model('basic', '-ndm', 2, '-ndf', 3)"
   ]
  },
  {
   "cell_type": "code",
   "execution_count": 3,
   "id": "978f9fd0",
   "metadata": {},
   "outputs": [],
   "source": [
    "# Length, Area, and Moment of Inertia\n",
    "colL, girL = 4., 6. # m\n",
    "colA, girA = 0.06, 0.06 # m2\n",
    "colIz, girIz = 0.0002, 0.0002 # m4\n",
    "# Material properties\n",
    "E = 3.2e10 # N/m2\n",
    "rho = 2400. # kg/m3\n",
    "# Mass per unit length\n",
    "colM = rho * colA # kg/m\n",
    "girM = rho * girA # kg/m\n",
    "# Mass settings for element definition\n",
    "massCol = ['-mass', colM, '-cMass'] \n",
    "massGir = ['-mass', girM, '-cMass'] "
   ]
  },
  {
   "cell_type": "code",
   "execution_count": 4,
   "id": "394c5380",
   "metadata": {},
   "outputs": [],
   "source": [
    "# Define nodes\n",
    "node(0, 0.0, 0.0)\n",
    "node(1, 0.0, 2.0)\n",
    "node(2, 0.0, 4.0)\n",
    "node(3, 3.0, 4.0)\n",
    "node(4, 6.0, 4.0)\n",
    "node(5, 6.0, 2.0)\n",
    "node(6, 6.0, 0.0)\n",
    "# Boundary condition: fixity at base\n",
    "fix(0, 1, 1, 1)\n",
    "fix(6, 1, 1, 0)"
   ]
  },
  {
   "cell_type": "code",
   "execution_count": 5,
   "id": "8ddfd65e",
   "metadata": {},
   "outputs": [
    {
     "data": {
      "text/plain": [
       "<Axes: >"
      ]
     },
     "execution_count": 5,
     "metadata": {},
     "output_type": "execute_result"
    },
    {
     "data": {
      "application/vnd.jupyter.widget-view+json": {
       "model_id": "7c8148c0c882426085afe57f23ff253e",
       "version_major": 2,
       "version_minor": 0
      },
      "image/png": "[encoded data removed]",
      "text/html": [
       "\n",
       "            <div style=\"display: inline-block;\">\n",
       "                <div class=\"jupyter-widgets widget-label\" style=\"text-align: center;\">\n",
       "                    Figure\n",
       "                </div>\n",
       "                <img src='data:image/png;base64,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' width=640.0/>\n",
       "            </div>\n",
       "        "
      ],
      "text/plain": [
       "Canvas(toolbar=Toolbar(toolitems=[('Home', 'Reset original view', 'home', 'home'), ('Back', 'Back to previous …"
      ]
     },
     "metadata": {},
     "output_type": "display_data"
    }
   ],
   "source": [
    "opsv.plot_model()"
   ]
  },
  {
   "cell_type": "code",
   "execution_count": 6,
   "id": "acdf4925",
   "metadata": {},
   "outputs": [],
   "source": [
    "geomTransf('Linear', 1)\n",
    "# left columns\n",
    "element('elasticBeamColumn', 1, 0, 1, colA, E, colIz, 1, *massCol)\n",
    "element('elasticBeamColumn', 2, 1, 2, colA, E, colIz, 1, *massCol)\n",
    "# Right columns\n",
    "element('elasticBeamColumn', 3, 4, 5, colA, E, colIz, 1, *massCol)\n",
    "element('elasticBeamColumn', 4, 5, 6, colA, E, colIz, 1, *massCol)\n",
    "# Girders\n",
    "element('elasticBeamColumn', 5, 2, 3, girA, E, girIz, 1, *massGir)\n",
    "element('elasticBeamColumn', 6, 3, 4, girA, E, girIz, 1, *massGir)"
   ]
  },
  {
   "cell_type": "code",
   "execution_count": 7,
   "id": "eaaaa0ae",
   "metadata": {},
   "outputs": [],
   "source": [
    "tk = 1.\n",
    "t0 = 0.\n",
    "dt = 0.002\n",
    "n_steps = int((tk - t0)/dt)"
   ]
  },
  {
   "cell_type": "code",
   "execution_count": 8,
   "id": "18894340",
   "metadata": {},
   "outputs": [],
   "source": [
    "timeSeries('Trig', 1, t0, tk, 1/20.8, '-factor', 15000.)\n",
    "pattern('Plain', 1, 1)\n",
    "load(1, 1., 0., 0.)"
   ]
  },
  {
   "cell_type": "code",
   "execution_count": 9,
   "id": "f61c8e73",
   "metadata": {},
   "outputs": [],
   "source": [
    "constraints('Transformation')\n",
    "numberer('RCM')\n",
    "test('NormDispIncr', 1.0e-6, 10, 1)\n",
    "algorithm('Linear')\n",
    "system('ProfileSPD')\n",
    "integrator('Newmark', 0.5, 0.25)\n",
    "analysis('Transient')"
   ]
  },
  {
   "cell_type": "code",
   "execution_count": 10,
   "id": "099e935b",
   "metadata": {},
   "outputs": [],
   "source": [
    "elements = getEleTags()\n",
    "numElements = len(elements)\n",
    "# Initialize: shape = (0, numElements, 6)\n",
    "Eds = np.zeros((0, numElements, 6))\n",
    "timeV = np.zeros(0)"
   ]
  },
  {
   "cell_type": "code",
   "execution_count": null,
   "id": "a4fd3867",
   "metadata": {},
   "outputs": [
    {
     "ename": "NameError",
     "evalue": "name 'applied_disp' is not defined",
     "output_type": "error",
     "traceback": [
      "\u001b[1;31m---------------------------------------------------------------------------\u001b[0m",
      "\u001b[1;31mNameError\u001b[0m                                 Traceback (most recent call last)",
      "Cell \u001b[1;32mIn[11], line 4\u001b[0m\n\u001b[0;32m      1\u001b[0m max_substeps \u001b[38;5;241m=\u001b[39m \u001b[38;5;241m1000\u001b[39m\n\u001b[0;32m      2\u001b[0m substep \u001b[38;5;241m=\u001b[39m \u001b[38;5;241m0\u001b[39m\n\u001b[1;32m----> 4\u001b[0m \u001b[38;5;28;01mfor\u001b[39;00m step, target_disp \u001b[38;5;129;01min\u001b[39;00m \u001b[38;5;28menumerate\u001b[39m(\u001b[43mapplied_disp\u001b[49m):\n\u001b[0;32m      5\u001b[0m     time \u001b[38;5;241m=\u001b[39m getTime()\n\u001b[0;32m      6\u001b[0m     current_disp \u001b[38;5;241m=\u001b[39m nodeDisp(\u001b[38;5;241m11\u001b[39m, \u001b[38;5;241m1\u001b[39m)\n",
      "\u001b[1;31mNameError\u001b[0m: name 'applied_disp' is not defined"
     ]
    }
   ],
   "source": [
    "# Transient analysis loop and data collection\n",
    "\n",
    "for step in range(n_steps):\n",
    "    analyze(1, dt)\n",
    "    timeV[step] = getTime()\n",
    "    # Displacement data\n",
    "    for el_i, ele_tag in enumerate(elements):\n",
    "        node1, node2 = eleNodes(ele_tag)\n",
    "        Eds[step, el_i, :] = [nodeDisp(node1)[0], nodeDisp(node1)[1], nodeDisp(node1)[2], nodeDisp(node2)[0], nodeDisp(node2)[1], nodeDisp(node2)[2]]    "
   ]
  },
  {
   "cell_type": "code",
   "execution_count": null,
   "id": "fc20263f",
   "metadata": {},
   "outputs": [],
   "source": [
    "    fmt_defo = {'color': 'blue', 'linestyle': 'solid', 'linewidth': 3.0,\n",
    "                'marker': '', 'markersize': 6}"
   ]
  },
  {
   "cell_type": "code",
   "execution_count": null,
   "id": "564d75f6",
   "metadata": {},
   "outputs": [
    {
     "data": {
      "application/vnd.jupyter.widget-view+json": {
       "model_id": "8f62120b99934a64aa939db63756b07a",
       "version_major": 2,
       "version_minor": 0
      },
      "image/png": "[encoded data removed]",
      "text/html": [
       "\n",
       "            <div style=\"display: inline-block;\">\n",
       "                <div class=\"jupyter-widgets widget-label\" style=\"text-align: center;\">\n",
       "                    Figure\n",
       "                </div>\n",
       "                <img src='data:image/png;base64,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' width=314.9606299212598/>\n",
       "            </div>\n",
       "        "
      ],
      "text/plain": [
       "Canvas(toolbar=Toolbar(toolitems=[('Home', 'Reset original view', 'home', 'home'), ('Back', 'Back to previous …"
      ]
     },
     "metadata": {},
     "output_type": "display_data"
    }
   ],
   "source": [
    "sfac_a = 300.\n",
    "tkt = 8.\n",
    "anim = opsv.anim_defo(Eds, timeV, sfac_a, fmt_defo = fmt_defo, xlim=[-1, 7], ylim=[-1,5], fig_wi_he=(8., 6.))\n",
    "plt.show()"
   ]
  }
 ],
 "metadata": {
  "kernelspec": {
   "display_name": "Python 3",
   "language": "python",
   "name": "python3"
  },
  "language_info": {
   "codemirror_mode": {
    "name": "ipython",
    "version": 3
   },
   "file_extension": ".py",
   "mimetype": "text/x-python",
   "name": "python",
   "nbconvert_exporter": "python",
   "pygments_lexer": "ipython3",
   "version": "3.12.6"
  }
 },
 "nbformat": 4,
 "nbformat_minor": 5
}
